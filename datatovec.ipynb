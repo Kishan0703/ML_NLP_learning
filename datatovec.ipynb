{
 "cells": [
  {
   "cell_type": "markdown",
   "id": "cc5845bd",
   "metadata": {},
   "source": [
    "## HOT Encoding\n",
    "\n",
    "#### Why One-Hot Encoding is not recommended in NLP (traditional form):\n",
    "##### Creates very large sparse vectors if vocabulary is big (e.g., millions of words → millions of zeros).\n",
    "##### Does not capture meaning or similarity between words (e.g., king and queen are just as distant as king and banana).\n",
    "##### Leads to high memory usage and poor generalization."
   ]
  },
  {
   "cell_type": "code",
   "execution_count": 20,
   "id": "cebd5d92",
   "metadata": {},
   "outputs": [
    {
     "name": "stdout",
     "output_type": "stream",
     "text": [
      "['and', 'fun', 'data', 'is', 'science', 'powerful']\n",
      "and = [1, 0, 0, 0, 0, 0]\n",
      "fun = [0, 1, 0, 0, 0, 0]\n",
      "data = [0, 0, 1, 0, 0, 0]\n",
      "is = [0, 0, 0, 1, 0, 0]\n",
      "science = [0, 0, 0, 0, 1, 0]\n",
      "powerful = [0, 0, 0, 0, 0, 1]\n"
     ]
    }
   ],
   "source": [
    "import nltk\n",
    "from nltk.tokenize import word_tokenize\n",
    "\n",
    "text = \"Data science is fun and science is powerful\"\n",
    "\n",
    "words=list(set(word_tokenize(text.lower())))\n",
    "print(words)\n",
    "vectors=[]\n",
    "# for w in words:\n",
    "#     vectors=[1 if word == w else 0 for word in words]\n",
    "\n",
    "#     print(f\"{w} = {vectors}\")\n",
    "\n",
    "for w in words:\n",
    "    for word in words:\n",
    "        if word==w:\n",
    "            vectors.append(1)\n",
    "        else:\n",
    "            vectors.append(0)\n",
    "    print(f\"{w} = {vectors}\")\n",
    "    vectors=[]"
   ]
  },
  {
   "cell_type": "markdown",
   "id": "3501ce6c",
   "metadata": {},
   "source": [
    "## Bag of words\n",
    "#### In seperate file"
   ]
  },
  {
   "cell_type": "code",
   "execution_count": null,
   "id": "261c3e2b",
   "metadata": {},
   "outputs": [],
   "source": []
  },
  {
   "cell_type": "markdown",
   "id": "4812b097",
   "metadata": {},
   "source": []
  }
 ],
 "metadata": {
  "kernelspec": {
   "display_name": "venv",
   "language": "python",
   "name": "python3"
  },
  "language_info": {
   "codemirror_mode": {
    "name": "ipython",
    "version": 3
   },
   "file_extension": ".py",
   "mimetype": "text/x-python",
   "name": "python",
   "nbconvert_exporter": "python",
   "pygments_lexer": "ipython3",
   "version": "3.13.6"
  }
 },
 "nbformat": 4,
 "nbformat_minor": 5
}
